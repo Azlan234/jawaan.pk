{
 "cells": [
  {
   "cell_type": "code",
   "execution_count": 1,
   "id": "b31c2561-9e21-4589-a74f-247b09545b66",
   "metadata": {},
   "outputs": [],
   "source": [
    "import csv\n",
    "\n",
    "with open(\"student data.csv\", \"r\") as file, open(\"newfile.csv\", \"w\", newline=\"\") as newfile:\n",
    "    reader = csv.reader(file)\n",
    "    writer = csv.writer(newfile)\n",
    "\n",
    "    header = next(reader)      # Read header row\n",
    "    header.append(\"Grade\")     # Add new column name\n",
    "    writer.writerow(header)\n",
    "\n",
    "    for row in reader:\n",
    "        percentage = float(row[5])  # 6th column = Percentage\n",
    "\n",
    "        if percentage >= 80:\n",
    "            grade = \"A\"\n",
    "        elif percentage >= 70:\n",
    "            grade = \"B\"\n",
    "        elif percentage >= 60:\n",
    "            grade = \"C\"\n",
    "        elif percentage >= 50:\n",
    "            grade = \"D\"\n",
    "        else:\n",
    "            grade = \"F\"\n",
    "\n",
    "        row.append(grade)     # Add grade to row\n",
    "        writer.writerow(row)  # Write to new file\n"
   ]
  },
  {
   "cell_type": "code",
   "execution_count": 6,
   "id": "df26037a-db99-44b4-a790-8be3e8e3359f",
   "metadata": {},
   "outputs": [
    {
     "ename": "AttributeError",
     "evalue": "'_io.TextIOWrapper' object has no attribute 'csv'",
     "output_type": "error",
     "traceback": [
      "\u001b[1;31m---------------------------------------------------------------------------\u001b[0m",
      "\u001b[1;31mAttributeError\u001b[0m                            Traceback (most recent call last)",
      "Cell \u001b[1;32mIn[6], line 1\u001b[0m\n\u001b[1;32m----> 1\u001b[0m newfile\u001b[38;5;241m.\u001b[39mcsv\n",
      "\u001b[1;31mAttributeError\u001b[0m: '_io.TextIOWrapper' object has no attribute 'csv'"
     ]
    }
   ],
   "source": [
    "newfile.csv"
   ]
  },
  {
   "cell_type": "code",
   "execution_count": 3,
   "id": "7d738c03-64ce-4c04-b2e3-d39765309cf4",
   "metadata": {},
   "outputs": [
    {
     "ename": "SyntaxError",
     "evalue": "invalid syntax. Perhaps you forgot a comma? (1316764043.py, line 1)",
     "output_type": "error",
     "traceback": [
      "\u001b[1;36m  Cell \u001b[1;32mIn[3], line 1\u001b[1;36m\u001b[0m\n\u001b[1;33m    list(student data)\u001b[0m\n\u001b[1;37m         ^\u001b[0m\n\u001b[1;31mSyntaxError\u001b[0m\u001b[1;31m:\u001b[0m invalid syntax. Perhaps you forgot a comma?\n"
     ]
    }
   ],
   "source": [
    "list(student data)"
   ]
  },
  {
   "cell_type": "code",
   "execution_count": null,
   "id": "971251d6-0e8d-49a4-ba6d-cbe28aa3eccb",
   "metadata": {},
   "outputs": [],
   "source": []
  }
 ],
 "metadata": {
  "kernelspec": {
   "display_name": "Python 3 (ipykernel)",
   "language": "python",
   "name": "python3"
  },
  "language_info": {
   "codemirror_mode": {
    "name": "ipython",
    "version": 3
   },
   "file_extension": ".py",
   "mimetype": "text/x-python",
   "name": "python",
   "nbconvert_exporter": "python",
   "pygments_lexer": "ipython3",
   "version": "3.13.5"
  }
 },
 "nbformat": 4,
 "nbformat_minor": 5
}
