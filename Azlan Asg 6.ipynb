{
 "cells": [
  {
   "cell_type": "markdown",
   "id": "7e777340-fcd5-4c13-9ae0-e80ade2b8a3a",
   "metadata": {},
   "source": [
    "Q1. Write a Python program that prints the multiplication table for a given number (between 1 and 10) using a for loop.\n",
    "\n",
    "Hint:\n",
    "\n",
    "Ask the user for a number between 1 and 10 .\n",
    "Use a for loop to iterate through the numbers from 1 to 10.\n",
    "For each iteration, calculate the product of the given number and the current number in the loop.\n",
    "Print the result in a readable format (e.g., 5 x 1 = 5).\n",
    "Ensure the program works correctly for any number between 1 and 10.\n",
    "Output Hint:\n",
    "\n",
    "- 4 x 1 = 4\n",
    "- 4 x 2 = 8\n",
    "- 4 x 3 = 12\n",
    "- 4 x 4 = 16\n",
    "- 4 x 5 = 20\n",
    "- 4 x 6 = 24\n",
    "- 4 x 7 = 28\n",
    "- 4 x 8 = 32\n",
    "- 4 x 9 = 36\n",
    "- 4 x 10 = 40"
   ]
  },
  {
   "cell_type": "code",
   "execution_count": 1,
   "id": "f5527ef9-9ea3-48bf-9e49-fd393a5a8353",
   "metadata": {},
   "outputs": [
    {
     "name": "stdin",
     "output_type": "stream",
     "text": [
      "Enter a number between 1 and 10:  4\n"
     ]
    },
    {
     "name": "stdout",
     "output_type": "stream",
     "text": [
      "4 x 1 = 4\n",
      "4 x 2 = 8\n",
      "4 x 3 = 12\n",
      "4 x 4 = 16\n",
      "4 x 5 = 20\n",
      "4 x 6 = 24\n",
      "4 x 7 = 28\n",
      "4 x 8 = 32\n",
      "4 x 9 = 36\n",
      "4 x 10 = 40\n"
     ]
    }
   ],
   "source": [
    "num = int(input(\"Enter a number between 1 and 10: \"))\n",
    "if 1 <= num <= 10:\n",
    "\n",
    "    for i in range(1, 11):\n",
    "        print(f\"{num} x {i} = {num * i}\")\n",
    "else:\n",
    "    print(\"Please enter a valid number between 1 and 10.\")\n"
   ]
  },
  {
   "cell_type": "markdown",
   "id": "93c6d6ba-b4ef-4284-a0e9-9db6eaf2a2cf",
   "metadata": {},
   "source": [
    "Q2. Stop sending emails after 3 users (Using for loop and break)\n",
    "\n",
    "users = [\"Ali\", \"Sara\", \"John\", \"Zara\", \"Mike\"]\n",
    "\n",
    "Output:\n",
    "\n",
    "Email sent to Ali\n",
    "\n",
    "Email sent to Sara\n",
    "\n",
    "Email sent to John\n",
    "\n",
    "Limit reached. Stop sending emails."
   ]
  },
  {
   "cell_type": "code",
   "execution_count": 2,
   "id": "864b3eec-4513-471c-8f59-79af619d2640",
   "metadata": {},
   "outputs": [
    {
     "name": "stdout",
     "output_type": "stream",
     "text": [
      "Email sent to Ali\n",
      "Email sent to Sara\n",
      "Email sent to John\n",
      "Limit reached. Stop sending emails.\n"
     ]
    }
   ],
   "source": [
    "users = [\"Ali\", \"Sara\", \"John\", \"Zara\", \"Mike\"]\n",
    "\n",
    "for i in range(len(users)):\n",
    "    if i == 3:  # stop after 3 users\n",
    "        print(\"Limit reached. Stop sending emails.\")\n",
    "        break\n",
    "    print(f\"Email sent to {users[i]}\")\n"
   ]
  },
  {
   "cell_type": "markdown",
   "id": "fa38e056-f606-41d9-8748-2209cb4eaad7",
   "metadata": {},
   "source": [
    "Q3. Stop monitoring temperature if critical temperature reached (Using for loop and break)\n",
    "\n",
    "temps = [22, 25, 30, 45, 28]\n",
    "critical = 40\n",
    "\n",
    "Ouput:\n",
    "\n",
    "Temperature: 22\n",
    "\n",
    "Temperature: 25\n",
    "\n",
    "Temperature: 30\n",
    "\n",
    "Critical temperature reached! Stop monitoring."
   ]
  },
  {
   "cell_type": "code",
   "execution_count": 3,
   "id": "19736f0d-14f6-4449-b911-6dc7bfadef47",
   "metadata": {},
   "outputs": [
    {
     "name": "stdout",
     "output_type": "stream",
     "text": [
      "Temperature: 22\n",
      "Temperature: 25\n",
      "Temperature: 30\n",
      "Critical temperature reached! Stop monitoring.\n"
     ]
    }
   ],
   "source": [
    "temps = [22, 25, 30, 45, 28]\n",
    "critical = 40\n",
    "\n",
    "for t in temps:\n",
    "    if t >= critical:\n",
    "        print(\"Critical temperature reached! Stop monitoring.\")\n",
    "        break\n",
    "    print(f\"Temperature: {t}\")\n"
   ]
  },
  {
   "cell_type": "markdown",
   "id": "7f5bbc99-28e7-4866-b306-58221f72076c",
   "metadata": {},
   "source": [
    "Q4. Calculate total price of items in a shopping cart (Using For loop)\n",
    "\n",
    "cart = [100, 250, 50, 300]\n",
    "\n",
    "Output:\n",
    "\n",
    "Total Price: 700"
   ]
  },
  {
   "cell_type": "code",
   "execution_count": 4,
   "id": "4454fe3e-7349-43c8-8018-564c44b24cc5",
   "metadata": {},
   "outputs": [
    {
     "name": "stdout",
     "output_type": "stream",
     "text": [
      "Total Price: 700\n"
     ]
    }
   ],
   "source": [
    "cart = [100, 250, 50, 300]\n",
    "\n",
    "total = 0\n",
    "for price in cart:\n",
    "    total += price\n",
    "\n",
    "print(\"Total Price:\", total)\n"
   ]
  },
  {
   "cell_type": "markdown",
   "id": "d01d8825-6b0a-44f5-962f-f805700a8e08",
   "metadata": {},
   "source": [
    "Q5. Skip customers with unpaid bills (Using For loop and continue)\n",
    "\n",
    "customers = [\n",
    "    {\"name\": \"Ali\", \"paid\": True},\n",
    "    \n",
    "    {\"name\": \"Sara\", \"paid\": False},\n",
    "    \n",
    "    {\"name\": \"John\", \"paid\": True}\n",
    "]\n",
    "\n",
    "\n",
    "Output:\n",
    "\n",
    "Access granted to: Ali\n",
    "\n",
    "Access granted to: John\n"
   ]
  },
  {
   "cell_type": "code",
   "execution_count": 5,
   "id": "228edfb8-c94d-4b7f-899f-0760fec31304",
   "metadata": {},
   "outputs": [
    {
     "name": "stdout",
     "output_type": "stream",
     "text": [
      "Access granted to: Ali\n",
      "Access granted to: John\n"
     ]
    }
   ],
   "source": [
    "customers = [\n",
    "    {\"name\": \"Ali\", \"paid\": True},\n",
    "    {\"name\": \"Sara\", \"paid\": False},\n",
    "    {\"name\": \"John\", \"paid\": True}\n",
    "]\n",
    "\n",
    "for customer in customers:\n",
    "    if not customer[\"paid\"]:   # skip unpaid customers\n",
    "        continue\n",
    "    print(f\"Access granted to: {customer['name']}\")\n",
    "\n"
   ]
  },
  {
   "cell_type": "markdown",
   "id": "f6cfe812-c319-40e5-ac17-cef6e72488dd",
   "metadata": {},
   "source": [
    "Q6. Send personalized emails to a list of users (Using for loop)\n",
    "\n",
    "users = [\"Ali\", \"Sara\", \"John\"]\n",
    "\n",
    "Output:\n",
    "\n",
    "- Hello Ali, your subscription is active!\n",
    "- Hello Sara, your subscription is active!\n",
    "- Hello John, your subscription is active!\n"
   ]
  },
  {
   "cell_type": "code",
   "execution_count": 6,
   "id": "cad62411-5faf-4a46-9c3d-0fe703b44b42",
   "metadata": {},
   "outputs": [
    {
     "name": "stdout",
     "output_type": "stream",
     "text": [
      "Hello Ali, your subscription is active!\n",
      "Hello Sara, your subscription is active!\n",
      "Hello John, your subscription is active!\n"
     ]
    }
   ],
   "source": [
    "users = [\"Ali\", \"Sara\", \"John\"]\n",
    "\n",
    "for user in users:\n",
    "    print(f\"Hello {user}, your subscription is active!\")\n"
   ]
  },
  {
   "cell_type": "markdown",
   "id": "8ac2616e-f0fb-433f-a1c5-0adf73e50429",
   "metadata": {},
   "source": [
    "Q7. Extract domain names from email list (Using for loop)\n",
    "\n",
    "emails = [\"ali@gmail.com\", \"sara@yahoo.com\", \"john@hotmail.com\"]\n",
    "\n",
    "Output:\n",
    "\n",
    "domains: ['gmail.com', 'yahoo.com', 'hotmail.com']\n"
   ]
  },
  {
   "cell_type": "code",
   "execution_count": null,
   "id": "4c6c1dce-9940-48f7-b212-f31966eb5f7c",
   "metadata": {},
   "outputs": [],
   "source": []
  },
  {
   "cell_type": "markdown",
   "id": "bc118672-58b5-44e3-8895-0685921efdda",
   "metadata": {},
   "source": [
    "Q8. Print only overdue tasks (Using for loop)\n",
    "\n",
    "tasks = [\n",
    "    {\"task\": \"Pay bills\", \"status\": \"done\"},\n",
    "    \n",
    "    {\"task\": \"Submit report\", \"status\": \"pending\"},\n",
    "    \n",
    "    {\"task\": \"Clean house\", \"status\": \"pending\"}\n",
    "]\n",
    "\n",
    "\n",
    "Ouput:\n",
    "\n",
    "Overdue: Submit report\n",
    "\n",
    "Overdue: Clean house"
   ]
  },
  {
   "cell_type": "code",
   "execution_count": null,
   "id": "08b7c453-5dfd-47db-ba9e-d7e332fbb8a4",
   "metadata": {},
   "outputs": [],
   "source": []
  },
  {
   "cell_type": "markdown",
   "id": "c3d3986b-d13f-4afd-829d-b7b1a6f8a526",
   "metadata": {},
   "source": [
    "Q9. Extract names of employees with salary above 50,000\n",
    "\n",
    "employees = [\n",
    "    {\"name\": \"Ali\", \"salary\": 60000},\n",
    "    \n",
    "    {\"name\": \"Sara\", \"salary\": 45000},\n",
    "    \n",
    "    {\"name\": \"John\", \"salary\": 70000}\n",
    "]\n",
    "\n",
    "\n",
    "Output:\n",
    "\n",
    "Ali earns above 50,000\n",
    "\n",
    "John earns above 50,000"
   ]
  },
  {
   "cell_type": "code",
   "execution_count": null,
   "id": "a52a7399-0c38-4cec-a5aa-413b6f6d498e",
   "metadata": {},
   "outputs": [],
   "source": []
  },
  {
   "cell_type": "markdown",
   "id": "f1db4dfb-ea09-4b1b-9383-28d7a5253f06",
   "metadata": {},
   "source": [
    "Q10. Skip weekends while printing workdays (Using for loop and continue)\n",
    "\n",
    "days = [\"Monday\", \"Tuesday\", \"Wednesday\", \"Thursday\", \"Friday\", \"Saturday\", \"Sunday\"]\n",
    "\n",
    "Output:\n",
    "\n",
    "Workday: Monday\n",
    "\n",
    "Workday: Tuesday\n",
    "\n",
    "Workday: Wednesday\n",
    "\n",
    "Workday: Thursday\n",
    "\n",
    "Workday: Friday\n"
   ]
  },
  {
   "cell_type": "code",
   "execution_count": null,
   "id": "be9ec9d5-3a31-4948-8973-45a307ed3f4d",
   "metadata": {},
   "outputs": [],
   "source": []
  },
  {
   "cell_type": "code",
   "execution_count": null,
   "id": "3909f284-36f9-401d-95b9-83d2a1b65f71",
   "metadata": {},
   "outputs": [],
   "source": []
  }
 ],
 "metadata": {
  "kernelspec": {
   "display_name": "Python 3 (ipykernel)",
   "language": "python",
   "name": "python3"
  },
  "language_info": {
   "codemirror_mode": {
    "name": "ipython",
    "version": 3
   },
   "file_extension": ".py",
   "mimetype": "text/x-python",
   "name": "python",
   "nbconvert_exporter": "python",
   "pygments_lexer": "ipython3",
   "version": "3.13.5"
  }
 },
 "nbformat": 4,
 "nbformat_minor": 5
}
